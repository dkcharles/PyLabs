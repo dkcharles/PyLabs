{
 "cells": [
  {
   "cell_type": "markdown",
   "metadata": {},
   "source": [
    "# AI_EEE205 - 2. Classes & Importing and Using Libraries"
   ]
  },
  {
   "cell_type": "markdown",
   "metadata": {},
   "source": [
    "Continuing from last week, we look at a few more Python concepts before starting to have a go at some data science packages. "
   ]
  },
  {
   "cell_type": "markdown",
   "metadata": {},
   "source": [
    "Python can define classes. A class is a code object with variables (properties) and functions that you may need to have many instances of. You may also create a new class that inherits all the properties and functions of another class. E.g. a base class is dog, a Poodle is derived from the dog object but also has its own specific properties. \n",
    "A class can encapsulate content, in that some of the variables and functions in a class may not be accessible to code outside the scope of that class (A private variable). "
   ]
  },
  {
   "cell_type": "markdown",
   "metadata": {},
   "source": [
    "Here is a simple example. Not the use of the dot to access a variable in a class instance. "
   ]
  },
  {
   "cell_type": "code",
   "execution_count": null,
   "metadata": {},
   "outputs": [],
   "source": [
    "class Person:\n",
    "    name = \"Darryl\""
   ]
  },
  {
   "cell_type": "code",
   "execution_count": null,
   "metadata": {},
   "outputs": [],
   "source": [
    "lecturer = Person()\n",
    "print(lecturer.name)"
   ]
  },
  {
   "cell_type": "markdown",
   "metadata": {},
   "source": [
    "Put your own name in the class above and run both cells again"
   ]
  },
  {
   "cell_type": "markdown",
   "metadata": {},
   "source": [
    "We can initialise the variables in a class when create an instance of that class in computer memory. __init__ is a function that initialises variables, and declared a variable 'self' that refers to the instance of that class (i.e. refers to itself!). "
   ]
  },
  {
   "cell_type": "code",
   "execution_count": null,
   "metadata": {},
   "outputs": [],
   "source": [
    "class Person:\n",
    "  def __init__(self, name, age):\n",
    "    self.name = name\n",
    "    self.age = age\n",
    "\n",
    "lecturer = Person(\"Darryl\", 42)\n",
    "\n",
    "print(lecturer.name)\n",
    "print(lecturer.age)"
   ]
  },
  {
   "cell_type": "markdown",
   "metadata": {},
   "source": [
    "Rewrite the print statement to be more of a sentence - e.g. \"Darryl is a lecturer whose age is possibly 42!\" This might be acheived best with a function in the class? (and a time machine!!)"
   ]
  },
  {
   "cell_type": "markdown",
   "metadata": {},
   "source": [
    "You can delete a property in a class. Try the following. "
   ]
  },
  {
   "cell_type": "code",
   "execution_count": null,
   "metadata": {},
   "outputs": [],
   "source": [
    "del lecturer.age"
   ]
  },
  {
   "cell_type": "markdown",
   "metadata": {},
   "source": [
    "Uncomment and run the following and note what happens."
   ]
  },
  {
   "cell_type": "code",
   "execution_count": null,
   "metadata": {},
   "outputs": [],
   "source": [
    "# print(lecturer.age)"
   ]
  },
  {
   "cell_type": "markdown",
   "metadata": {},
   "source": [
    "You should see that the capability to find out my age is gone. How do you explain this?\n",
    "\n"
   ]
  },
  {
   "cell_type": "markdown",
   "metadata": {},
   "source": [
    "Comment out the line above before continuing. \n",
    "See the following where another fuction is added to the class, and simplify the call to print lecturer details. Note the use of \"self\" to refer to the current object (class). \n",
    "\n",
    "1. Add another variable to the class - IQ. You can set it to 190 :-)\n",
    "2. Add another print statement to the function printDetails to print out the lecturer's IQ as well.\n",
    "3. Can you format the printing to be better? E.g. \"Darryl is 42 and has an IQ of 190\""
   ]
  },
  {
   "cell_type": "code",
   "execution_count": null,
   "metadata": {},
   "outputs": [],
   "source": [
    "class Person:\n",
    "  def __init__(self, name, age):\n",
    "    self.name = name\n",
    "    self.age = age \n",
    "    \n",
    "  def printDetails(self):\n",
    "    print(self.name)\n",
    "    print(self.age)\n",
    "\n",
    "lecturer = Person(\"Darryl\", 42)\n",
    "lecturer.printDetails()\n"
   ]
  },
  {
   "cell_type": "markdown",
   "metadata": {},
   "source": [
    "And now for some completely different. The Lambda function which alwaoys a function to be defined in one line. This can help make your code more efficient as the code is \"inline\" and does not need to be referenced in another location in computer memory.\n",
    "This is the example from W3 Schools. x is the function that adds 10 to the number given to the x function. W3 also shows a nice example of using this to create dynamic functions. "
   ]
  },
  {
   "cell_type": "code",
   "execution_count": 2,
   "metadata": {},
   "outputs": [
    {
     "name": "stdout",
     "output_type": "stream",
     "text": [
      "15\n"
     ]
    }
   ],
   "source": [
    "x = lambda a : a + 10\n",
    "print(x(5))"
   ]
  },
  {
   "cell_type": "markdown",
   "metadata": {},
   "source": [
    "Can you write a lamdda function to square a number? \n",
    "Have a go below."
   ]
  },
  {
   "cell_type": "code",
   "execution_count": null,
   "metadata": {},
   "outputs": [],
   "source": []
  },
  {
   "cell_type": "markdown",
   "metadata": {},
   "source": [
    "Python has a few well known libraries that can be used for AI and machine learning. \n",
    "Three of the most well known are NumPy, Matplotlib, and SciPy.\n",
    "NumPy is really fast at work with lists/arrays than the standard Python libraries because it is written in C/C++ and are stored in an efficient linear data store. It is a python library used for working with arrays, and computing things like linear algebra, fourier transform, and matrices. \n",
    "\n",
    "Note the the library needs to be installed if not done already. Either on the command line by this: \"conda install -c anaconda numpy\". Or by installing through Anaconda's environment manager. \n",
    "\n",
    "Try the following:"
   ]
  },
  {
   "cell_type": "code",
   "execution_count": null,
   "metadata": {
    "scrolled": true
   },
   "outputs": [],
   "source": [
    "# this imports a library of functions\n",
    "import numpy as np \n",
    "\n",
    "# sets up an array of data\n",
    "arr = np.array([1, 2, 3, 4, 5]) \n",
    "\n",
    "print(arr)"
   ]
  },
  {
   "cell_type": "markdown",
   "metadata": {},
   "source": [
    "This is an example of a plot from data stored in arrays. This requires matplotlib to be installed in youru env. \"conda install -c anaconda matplotlib\""
   ]
  },
  {
   "cell_type": "code",
   "execution_count": null,
   "metadata": {
    "scrolled": false
   },
   "outputs": [],
   "source": [
    "import matplotlib.pyplot as plt\n",
    "import numpy as np \n",
    "\n",
    "xpoints = np.array([0, 6])\n",
    "ypoints = np.array([0, 250])\n",
    "\n",
    "plt.plot(xpoints, ypoints)\n",
    "plt.show()"
   ]
  },
  {
   "cell_type": "markdown",
   "metadata": {},
   "source": [
    "scipy is a library of scientific functions and constants. \n",
    "The following prints out PI. Note there may be some overlap in functions between scipy and numpy"
   ]
  },
  {
   "cell_type": "code",
   "execution_count": null,
   "metadata": {},
   "outputs": [],
   "source": [
    "from scipy import constants\n",
    "\n",
    "print(constants.pi)"
   ]
  },
  {
   "cell_type": "markdown",
   "metadata": {},
   "source": [
    "Here are all of the constants"
   ]
  },
  {
   "cell_type": "code",
   "execution_count": null,
   "metadata": {
    "scrolled": true
   },
   "outputs": [],
   "source": [
    "print(constants.yotta)    #1e+24\n",
    "print(constants.zetta)    #1e+21\n",
    "print(constants.exa)      #1e+18\n",
    "print(constants.peta)     #1000000000000000.0\n",
    "print(constants.tera)     #1000000000000.0\n",
    "print(constants.giga)     #1000000000.0\n",
    "print(constants.mega)     #1000000.0\n",
    "print(constants.kilo)     #1000.0\n",
    "print(constants.hecto)    #100.0\n",
    "print(constants.deka)     #10.0\n",
    "print(constants.deci)     #0.1\n",
    "print(constants.centi)    #0.01\n",
    "print(constants.milli)    #0.001\n",
    "print(constants.micro)    #1e-06\n",
    "print(constants.nano)     #1e-09\n",
    "print(constants.pico)     #1e-12\n",
    "print(constants.femto)    #1e-15\n",
    "print(constants.atto)     #1e-18\n",
    "print(constants.zepto)    #1e-21"
   ]
  },
  {
   "cell_type": "markdown",
   "metadata": {},
   "source": [
    "Use this library to calculate the circumference of a circle - $pi * D$ where D = 10\n",
    "Can you write some Python to ask the user to enter the diameter of a circle and then the code outputs the circumference of the circle?"
   ]
  },
  {
   "cell_type": "code",
   "execution_count": null,
   "metadata": {},
   "outputs": [],
   "source": []
  }
 ],
 "metadata": {
  "kernelspec": {
   "display_name": "Python 3.10.6 64-bit",
   "language": "python",
   "name": "python3"
  },
  "language_info": {
   "codemirror_mode": {
    "name": "ipython",
    "version": 3
   },
   "file_extension": ".py",
   "mimetype": "text/x-python",
   "name": "python",
   "nbconvert_exporter": "python",
   "pygments_lexer": "ipython3",
   "version": "3.10.6"
  },
  "vscode": {
   "interpreter": {
    "hash": "369f2c481f4da34e4445cda3fffd2e751bd1c4d706f27375911949ba6bb62e1c"
   }
  }
 },
 "nbformat": 4,
 "nbformat_minor": 4
}

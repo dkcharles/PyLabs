{
 "cells": [
  {
   "cell_type": "markdown",
   "metadata": {},
   "source": [
    "# AI_EEE205 - 3. Files, Data, and Beginning Machine Learning."
   ]
  },
  {
   "cell_type": "markdown",
   "metadata": {},
   "source": [
    "This week we will look at data and the manipulation of data. Check the following out to load in a text file and print its contents- i.e. run the code. \n",
    "Note you need to make sure that the text file is in the same folder and the notebook. "
   ]
  },
  {
   "cell_type": "code",
   "execution_count": 1,
   "metadata": {},
   "outputs": [
    {
     "name": "stdout",
     "output_type": "stream",
     "text": [
      "Hello beautiful world. \n",
      "Good night and sleep tight. \n",
      "\n",
      "Wakey, wakey!Wakey, wakey!\n"
     ]
    }
   ],
   "source": [
    "f_text = open(\"AI_EEE205_1.txt\", \"r\") # r means read\n",
    "print(f_text.read())\n",
    "f_text.close() # always close an open file when finished with it"
   ]
  },
  {
   "cell_type": "markdown",
   "metadata": {},
   "source": [
    "Try to create your own text file and open it as above. Create a new cell below this one to do this. \n",
    "\n",
    "There are several ways to open, read and write to files. You can see the basics here: https://www.w3schools.com/python/python_file_handling.asp.\n",
    "The following Python code opens a file in append mode to write some data on to the end of the file. It is then reopened to read and display."
   ]
  },
  {
   "cell_type": "code",
   "execution_count": 2,
   "metadata": {},
   "outputs": [
    {
     "name": "stdout",
     "output_type": "stream",
     "text": [
      "Hello beautiful world. \n",
      "Good night and sleep tight. \n",
      "\n",
      "Wakey, wakey!Wakey, wakey!Wakey, wakey!\n"
     ]
    }
   ],
   "source": [
    "# open file in write append mode \n",
    "f = open(\"AI_EEE205_1.txt\", \"a\") # a means append\n",
    "f.write(\"Wakey, wakey!\")\n",
    "f.close()\n",
    "# reopen in read mode\n",
    "f = open(\"AI_EEE205_1.txt\", \"r\")\n",
    "print(f.read())\n",
    "f.close()"
   ]
  },
  {
   "cell_type": "markdown",
   "metadata": {},
   "source": [
    "## Basic Ideas about Statistics and Machine Learning "
   ]
  },
  {
   "cell_type": "markdown",
   "metadata": {},
   "source": [
    "Lets do some stats on list of data. Also, see https://www.w3schools.com/python/python_ml_getting_started.asp. "
   ]
  },
  {
   "cell_type": "code",
   "execution_count": 3,
   "metadata": {},
   "outputs": [
    {
     "name": "stdout",
     "output_type": "stream",
     "text": [
      "[60, 67, 77, 89, 54, 77, 68, 77, 60]\n",
      "60\n"
     ]
    }
   ],
   "source": [
    "exam_results = [60, 67, 77, 89, 54, 77, 68, 77, 60]\n",
    "print(exam_results)\n",
    "print(exam_results[0])"
   ]
  },
  {
   "cell_type": "markdown",
   "metadata": {},
   "source": [
    "mean() calculates the average (as we generally think of it) of series of numbers. \n",
    "median() calculates a different sort of average - it finds the middle value of a sequence of numbers.\n",
    "mode() finds the most common number in the list. \n",
    "You need to make sure that you have numpy installed on your python virtual environment. You can install the package at the commandline by: conda install numpy. Or by: pip install numpy."
   ]
  },
  {
   "cell_type": "code",
   "execution_count": 4,
   "metadata": {
    "scrolled": true
   },
   "outputs": [
    {
     "name": "stdout",
     "output_type": "stream",
     "text": [
      "Mean =  69.88888888888889\n",
      "Median =  68.0\n",
      "Mode object =  ModeResult(mode=array([77]), count=array([3]))\n"
     ]
    },
    {
     "name": "stderr",
     "output_type": "stream",
     "text": [
      "C:\\Users\\Darry\\AppData\\Local\\Temp\\ipykernel_7052\\1213019968.py:5: FutureWarning: Unlike other reduction functions (e.g. `skew`, `kurtosis`), the default behavior of `mode` typically preserves the axis it acts along. In SciPy 1.11.0, this behavior will change: the default value of `keepdims` will become False, the `axis` over which the statistic is taken will be eliminated, and the value None will no longer be accepted. Set `keepdims` to True or False to avoid this warning.\n",
      "  mode_result = stats.mode(exam_results); print(\"Mode object = \",mode_result)\n"
     ]
    }
   ],
   "source": [
    "from scipy import stats\n",
    "import numpy as np\n",
    "mean_result = np.mean(exam_results); print(\"Mean = \", mean_result)\n",
    "median_result = np.median(exam_results); print(\"Median = \",median_result)\n",
    "mode_result = stats.mode(exam_results); print(\"Mode object = \",mode_result)"
   ]
  },
  {
   "cell_type": "code",
   "execution_count": 5,
   "metadata": {
    "scrolled": false
   },
   "outputs": [
    {
     "name": "stdout",
     "output_type": "stream",
     "text": [
      "Mode =  77\n",
      "Number of same number for mode =  3\n"
     ]
    }
   ],
   "source": [
    "# printing values from the class that is mode_result\n",
    "print(\"Mode = \", mode_result.mode[0])\n",
    "print(\"Number of same number for mode = \", mode_result.count[0])"
   ]
  },
  {
   "cell_type": "code",
   "execution_count": 6,
   "metadata": {},
   "outputs": [
    {
     "name": "stdout",
     "output_type": "stream",
     "text": [
      "Standard deviation is  10.418407261983148\n",
      "Variance = is  108.54320987654322\n"
     ]
    }
   ],
   "source": [
    "# standard deviation gives a number that describes how spread out the number values are\n",
    "std_dev = np.std(exam_results)\n",
    "# variance is a measure of the range of values - both variance and standard deviation are very important in ML \n",
    "_variance = np.var(exam_results)\n",
    "print(\"Standard deviation is \", std_dev)\n",
    "print(\"Variance = is \", _variance)"
   ]
  },
  {
   "cell_type": "markdown",
   "metadata": {},
   "source": [
    "In the next few examples, let's use a larger array of exam scores - we will use a random number generator to create the list.\n",
    "If you change the third number, 5000, to 30000, does the graph become more \"uniform\"? "
   ]
  },
  {
   "cell_type": "code",
   "execution_count": 7,
   "metadata": {
    "scrolled": false
   },
   "outputs": [
    {
     "ename": "ModuleNotFoundError",
     "evalue": "No module named 'matplotlib'",
     "output_type": "error",
     "traceback": [
      "\u001b[1;31m---------------------------------------------------------------------------\u001b[0m",
      "\u001b[1;31mModuleNotFoundError\u001b[0m                       Traceback (most recent call last)",
      "Cell \u001b[1;32mIn [7], line 3\u001b[0m\n\u001b[0;32m      1\u001b[0m \u001b[38;5;66;03m# this creates 5000 examples of scores between 0 and 100 in a uniform distribution (i.e. all exam scores are equally probable)\u001b[39;00m\n\u001b[0;32m      2\u001b[0m \u001b[38;5;28;01mimport\u001b[39;00m \u001b[38;5;21;01mnumpy\u001b[39;00m\n\u001b[1;32m----> 3\u001b[0m \u001b[38;5;28;01mimport\u001b[39;00m \u001b[38;5;21;01mmatplotlib\u001b[39;00m\u001b[38;5;21;01m.\u001b[39;00m\u001b[38;5;21;01mpyplot\u001b[39;00m \u001b[38;5;28;01mas\u001b[39;00m \u001b[38;5;21;01mplt\u001b[39;00m\n\u001b[0;32m      5\u001b[0m scores \u001b[38;5;241m=\u001b[39m numpy\u001b[38;5;241m.\u001b[39mrandom\u001b[38;5;241m.\u001b[39muniform(\u001b[38;5;241m0.0\u001b[39m, \u001b[38;5;241m100.0\u001b[39m, \u001b[38;5;241m5000\u001b[39m)\n\u001b[0;32m      7\u001b[0m plt\u001b[38;5;241m.\u001b[39mhist(scores, \u001b[38;5;241m10\u001b[39m)\n",
      "\u001b[1;31mModuleNotFoundError\u001b[0m: No module named 'matplotlib'"
     ]
    }
   ],
   "source": [
    "# this creates 5000 examples of scores between 0 and 100 in a uniform distribution (i.e. all exam scores are equally probable)\n",
    "import numpy\n",
    "import matplotlib.pyplot as plt\n",
    "\n",
    "scores = numpy.random.uniform(0.0, 100.0, 5000)\n",
    "\n",
    "plt.hist(scores, 10)\n",
    "plt.show()"
   ]
  },
  {
   "cell_type": "markdown",
   "metadata": {},
   "source": [
    "This next version creates a normal distribution of exam marks which is more 'normal' and expected. So this shows the expected histogram of results if the distribution of marks is Normal. Try the following, then alter the values in $numpy.random.normal(50.0, 10.0, 5000)$ - where the 1st number is mean, the second standard deviation, and the third the number of data points. "
   ]
  },
  {
   "cell_type": "code",
   "execution_count": null,
   "metadata": {
    "scrolled": true
   },
   "outputs": [
    {
     "data": {
      "image/png": "[encoded data removed]",
      "text/plain": [
       "<Figure size 432x288 with 1 Axes>"
      ]
     },
     "metadata": {
      "needs_background": "light"
     },
     "output_type": "display_data"
    }
   ],
   "source": [
    "# in this example the mean is 50.0 and standard deviation is 10. There are 5000 examples in the data.\n",
    "import numpy\n",
    "import matplotlib.pyplot as plt\n",
    "\n",
    "scores = numpy.random.normal(50.0, 15.0, 500000)\n",
    "\n",
    "plt.hist(scores, 100)\n",
    "plt.show()"
   ]
  },
  {
   "cell_type": "markdown",
   "metadata": {},
   "source": [
    "Linear regression brings us closer to ML. This model of the data assumes that the relationship between the data and a prediction is linear, e.g. $y=mx + c$\n",
    "Lets look at some new data and a scatter plot of this 2D data. "
   ]
  },
  {
   "cell_type": "code",
   "execution_count": null,
   "metadata": {},
   "outputs": [
    {
     "data": {
      "image/png": "[encoded data removed]",
      "text/plain": [
       "<Figure size 432x288 with 1 Axes>"
      ]
     },
     "metadata": {
      "needs_background": "light"
     },
     "output_type": "display_data"
    }
   ],
   "source": [
    "import matplotlib.pyplot as plt\n",
    "\n",
    "x = [5,7,8,7,2,17,2,9,4,11,12,9,6]\n",
    "y = [99,86,87,88,111,86,103,87,94,78,77,85,86]\n",
    "\n",
    "plt.scatter(x, y)\n",
    "plt.show()"
   ]
  },
  {
   "cell_type": "markdown",
   "metadata": {},
   "source": [
    "Have a look at this plot and imagine where you might place a line through the data dots so the line is as close to all of the dots as possible. \n",
    "Luckily, we can use linear regression and code to do this accurately for us. \n",
    "Note that \"return slope * x + intercept\" is like $mx + c$ as I mentioned above, where c is an intercept on the $y=0$ axis, $m$ is the gradient/slope of the line, and $x$ is the value on the x-axis that is input into the function \"$myfunc(x)$\".\n",
    "The code below plots both the scatter plot of the data and the line that fits the data.\n",
    "The function $stats.linregress(x, y)$ returns 6 values - we use slope and intercept."
   ]
  },
  {
   "cell_type": "code",
   "execution_count": null,
   "metadata": {},
   "outputs": [
    {
     "data": {
      "image/png": "[encoded data removed]",
      "text/plain": [
       "<Figure size 432x288 with 1 Axes>"
      ]
     },
     "metadata": {
      "needs_background": "light"
     },
     "output_type": "display_data"
    }
   ],
   "source": [
    "slope, intercept, r, p, std_err = stats.linregress(x, y)\n",
    "\n",
    "def myfunc(x):\n",
    "  return slope * x + intercept \n",
    "\n",
    "mymodel = list(map(myfunc, x))\n",
    "\n",
    "plt.scatter(x, y)\n",
    "plt.plot(x, mymodel)\n",
    "plt.show()"
   ]
  },
  {
   "cell_type": "markdown",
   "metadata": {},
   "source": [
    "Once we have a model for the data, we can predict an outcome y based on an input x. In the case below if we have an input value x = 10, then we can predict that y should be around 85.6. The graphs basically shows that the lower x is the more likely that y is high.  "
   ]
  },
  {
   "cell_type": "code",
   "execution_count": null,
   "metadata": {},
   "outputs": [
    {
     "name": "stdout",
     "output_type": "stream",
     "text": [
      "85.59308314937454\n",
      "0.45353615760774213\n"
     ]
    }
   ],
   "source": [
    "y = myfunc(10)\n",
    "print(y)\n",
    "print(std_err) # this prints out the standard error of the line to the data - smaller is better"
   ]
  },
  {
   "cell_type": "markdown",
   "metadata": {},
   "source": [
    "Try your own value of x and see if the y seems correct based on the graph above - https://www.w3schools.com/python/python_ml_polynomial_regression.asp. \n",
    "Not all y/x relationships are linear. Some y's have a polynomial relationship with x - i.e. a curve explains the relationship better than a line. See the following data (x) which is best described in a non-linear way. mymodel is a model for the data that you know about and can be used to predict new values of y when you observe a data value x."
   ]
  },
  {
   "cell_type": "code",
   "execution_count": null,
   "metadata": {
    "scrolled": false
   },
   "outputs": [
    {
     "data": {
      "image/png": "[encoded data removed]",
      "text/plain": [
       "<Figure size 432x288 with 1 Axes>"
      ]
     },
     "metadata": {
      "needs_background": "light"
     },
     "output_type": "display_data"
    }
   ],
   "source": [
    "import numpy\n",
    "import matplotlib.pyplot as plt\n",
    "\n",
    "x = [1,2,3,5,6,7,8,9,10,12,13,14,15,16,18,19,21,22]\n",
    "y = [100,90,80,60,60,55,60,65,70,70,75,76,78,79,90,99,99,100]\n",
    "\n",
    "mymodel = numpy.poly1d(numpy.polyfit(x, y, 3))\n",
    "\n",
    "myline = numpy.linspace(1, 22, 100) # makes a list of points evenly spread over a line\n",
    "\n",
    "plt.scatter(x, y)\n",
    "plt.plot(myline, mymodel(myline))\n",
    "plt.show()"
   ]
  },
  {
   "cell_type": "markdown",
   "metadata": {},
   "source": []
  },
  {
   "cell_type": "code",
   "execution_count": null,
   "metadata": {},
   "outputs": [
    {
     "name": "stdout",
     "output_type": "stream",
     "text": [
      "97.76768832747513\n"
     ]
    }
   ],
   "source": [
    "# test the accuracy of the model - and x axis value of 20 leads to a y value of 97.8. Looks good!\n",
    "print(mymodel(20))"
   ]
  },
  {
   "cell_type": "markdown",
   "metadata": {},
   "source": [
    "Try a few values of x for yourself and visual examine if the model seems reasonably accurate. "
   ]
  }
 ],
 "metadata": {
  "kernelspec": {
   "display_name": "Python 3.10.6 64-bit",
   "language": "python",
   "name": "python3"
  },
  "language_info": {
   "codemirror_mode": {
    "name": "ipython",
    "version": 3
   },
   "file_extension": ".py",
   "mimetype": "text/x-python",
   "name": "python",
   "nbconvert_exporter": "python",
   "pygments_lexer": "ipython3",
   "version": "3.10.6"
  },
  "vscode": {
   "interpreter": {
    "hash": "369f2c481f4da34e4445cda3fffd2e751bd1c4d706f27375911949ba6bb62e1c"
   }
  }
 },
 "nbformat": 4,
 "nbformat_minor": 2
}

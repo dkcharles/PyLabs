{
 "cells": [
  {
   "cell_type": "markdown",
   "metadata": {},
   "source": [
    "# AI_EEE205 - 1. Beginning with Python"
   ]
  },
  {
   "cell_type": "markdown",
   "metadata": {},
   "source": [
    "<div overflow-wrap: break-word;>This first tutorial will introduce the basic principles of Python. Python is a popular and flexible programming language, which is typically run as interpreted script rather than compiled code. Hence, one of the reasons that it works so well in a browser. It is now one of the most popular languages for AI, machine learning and data science, but it is also used widely in web development, and even in IoT such as with coding for Raspberry Pi. \n",
    "For your log book, complete the challenge at the end and put your code on to Blackboard. \n",
    "First the philosophy.</div><br>\n",
    "The Zen of Python\n",
    "<pre><q>Beautiful is better than ugly.\n",
    "Explicit is better than implicit.\n",
    "Simple is better than complex.\n",
    "Complex is better than complicated.\n",
    "Flat is better than nested.\n",
    "Sparse is better than dense.\n",
    "Readability counts.\n",
    "Special cases aren't special enough to break the rules.\n",
    "Although practicality beats purity.\n",
    "Errors should never pass silently.\n",
    "Unless explicitly silenced.\n",
    "In the face of ambiguity, refuse the temptation to guess.\n",
    "There should be one-- and preferably only one --obvious way to do it.\n",
    "Although that way may not be obvious at first unless you're Dutch.\n",
    "Now is better than never.\n",
    "Although never is often better than *right* now.\n",
    "If the implementation is hard to explain, it's a bad idea.\n",
    "If the implementation is easy to explain, it may be a good idea.\n",
    "Namespaces are one honking great idea -- let's do more of those!</q></pre>\n",
    "\n",
    "Easter egg: import this\n",
    "\n",
    "---"
   ]
  },
  {
   "cell_type": "markdown",
   "metadata": {},
   "source": [
    "<div overflow-wrap: break-word;>Click the run button for the cell below.<br>\n",
    "Add this new line to the cell below with the following code:<br>\n",
    "<center><samp><em>print(\"Goodbye, World!\")</em></samp></center></div>"
   ]
  },
  {
   "cell_type": "code",
   "execution_count": null,
   "metadata": {},
   "outputs": [],
   "source": [
    "print(\"Hello, World!\")"
   ]
  },
  {
   "cell_type": "markdown",
   "metadata": {},
   "source": [
    "<div overflow-wrap: break-word;>Run the cell below. Note it shows an error, <em>'message' not defined</em>.<br> \n",
    "To fix this \"bug\" we need to assign the variable 'message' some content.<br>\n",
    "Add this new line of code before the print statement below: <br>\n",
    "<center><samp><em>message = 'Hi there'</em></samp></center></div>"
   ]
  },
  {
   "cell_type": "code",
   "execution_count": null,
   "metadata": {},
   "outputs": [],
   "source": [
    "\n",
    "print(message)"
   ]
  },
  {
   "cell_type": "markdown",
   "metadata": {},
   "source": [
    "<div>Guess what the output will be when you run the following code? Try it, then add our own message.<br>\n",
    "Why is there a space in \", \" ?</div>"
   ]
  },
  {
   "cell_type": "code",
   "execution_count": null,
   "metadata": {},
   "outputs": [],
   "source": [
    "message = \"Hi\"\n",
    "name = \"John\"\n",
    "print(message + \", \" + name)"
   ]
  },
  {
   "cell_type": "markdown",
   "metadata": {},
   "source": [
    "<div>Of course, you can do Maths. Try the following.</div>"
   ]
  },
  {
   "cell_type": "code",
   "execution_count": null,
   "metadata": {
    "scrolled": true
   },
   "outputs": [],
   "source": [
    "5+3-1 \n",
    "# You can do calculations here in a cell, but this won't provide an output in a compiled file. \n",
    "# Comments also don't run!"
   ]
  },
  {
   "cell_type": "code",
   "execution_count": null,
   "metadata": {},
   "outputs": [],
   "source": [
    "\"\"\"\n",
    "Note a multi-line \n",
    "comment\n",
    "\"\"\"\n",
    "a = 7"
   ]
  },
  {
   "cell_type": "code",
   "execution_count": null,
   "metadata": {},
   "outputs": [],
   "source": [
    "a=5+3-1\n",
    "print(a)"
   ]
  },
  {
   "cell_type": "code",
   "execution_count": null,
   "metadata": {},
   "outputs": [],
   "source": [
    "b, c, d = 5, 3 ,1\n",
    "a = b+c-d\n",
    "print(a)"
   ]
  },
  {
   "cell_type": "markdown",
   "metadata": {},
   "source": [
    "<div overflow-wrap: break-word;>The letters a, b, c, and d are called variables because they can contain content that we can generally change that content when a program is running.  </div>\n",
    "<pre>\n",
    "There are rules for Python variables:\n",
    "    A variable name must start with a letter or the underscore character\n",
    "    A variable name cannot start with a number\n",
    "    A variable name can only contain alpha-numeric characters and underscores (A-z, 0-9, and _ )\n",
    "    Variable names are case-sensitive (age, Age and AGE are three different variables)\n",
    "</pre>\n",
    "<pre>\n",
    "There is a range of different types of content for variables, e.g.:\n",
    "    Text Type:      str                (text)\n",
    "    Numeric Types:  int, float         (whole numbers, with a decimal point)\n",
    "    Sequence Types: list, tuple, range (changeable list, unchangeable list, a range of values)\n",
    "    Mapping Type:   dict               (a label and its value, e.g. apple, red)\n",
    "    Set Types:      set                (for doing set maths)\n",
    "    Boolean Type:   bool               (true or false)\n",
    "    Binary Types:   bytes              (8 bits per byte ~ normally thinking of binary values)\n",
    "Python can work out the type of variable once you assign a value but you cannot combine variables of different types together. Check out the following example, which won't run.\n",
    "</pre>"
   ]
  },
  {
   "cell_type": "code",
   "execution_count": null,
   "metadata": {},
   "outputs": [],
   "source": [
    "# Get the type of a variable - it will say which class it is  \n",
    "# A class is a way of defining an object with several attributes (variables) and actions (methods) that it can perform\n",
    "message = \"hello\"\n",
    "print(type(message))"
   ]
  },
  {
   "cell_type": "code",
   "execution_count": null,
   "metadata": {},
   "outputs": [],
   "source": [
    "# Can't add text to a number \n",
    "myText = \"42\"\n",
    "myInteger = 42\n",
    "result = myText + myInteger"
   ]
  },
  {
   "cell_type": "code",
   "execution_count": null,
   "metadata": {},
   "outputs": [],
   "source": [
    "# However ... we can add by Casting one type to another\n",
    "# Though, the results are different \n",
    "myText = \"42\"; myInteger = 42\n",
    "result1 = int(myText) + myInteger; result2 = myText + str(myInteger)\n",
    "print(result1); print(result2)"
   ]
  },
  {
   "cell_type": "markdown",
   "metadata": {},
   "source": [
    "Take two variables x, and y, where x is an int and y is a float.\n",
    "I've shown you how to cast (i.e. convert) y to a int before adding them.\n",
    "Now you cast x to a float and add them, before printing out the result."
   ]
  },
  {
   "cell_type": "code",
   "execution_count": null,
   "metadata": {},
   "outputs": [],
   "source": [
    "x = 2; y = 2.2\n",
    "z = 2 + int(y); print(z)"
   ]
  },
  {
   "cell_type": "markdown",
   "metadata": {},
   "source": [
    "Boolean variables are important for conditions and loops. \n",
    "A boolean variable (bool) can have only two values True or False, or equivalently 1, or 0. \n",
    "Actually, all values in Python are True except False and 0."
   ]
  },
  {
   "cell_type": "code",
   "execution_count": null,
   "metadata": {},
   "outputs": [],
   "source": [
    "# False is the value for false. The 'if' statement only proceed to the indented code if what is in brackets is true \n",
    "# indents are used instead of \"{}\" in Java and C code - code at the same level of indent are in the same 'scope'\n",
    "# indents must all be at the same level for the code to run properly, i.e. don't mix tabs and spaces!!\n",
    "if (False): \n",
    "    print('false')\n",
    "    \n",
    "elif (True): \n",
    "    print('true')"
   ]
  },
  {
   "cell_type": "code",
   "execution_count": null,
   "metadata": {},
   "outputs": [],
   "source": [
    "# If we use the ~ (Not) symbol then we know that - Not False = True\n",
    "# so what is in brackets after the 'if' statement is now true and the indented code can be executed \n",
    "if (~False): \n",
    "    print('false')\n",
    "    \n",
    "elif (~True): \n",
    "    print('true')"
   ]
  },
  {
   "cell_type": "code",
   "execution_count": null,
   "metadata": {},
   "outputs": [],
   "source": [
    "# An easier example - change the values for a and b and check the result\n",
    "a = 5\n",
    "b = 3\n",
    "if (a>b):\n",
    "    print(\"a is bigger than b\")\n",
    "    \n",
    "else: \n",
    "    print(\"a is not bigger than b\")"
   ]
  },
  {
   "cell_type": "markdown",
   "metadata": {},
   "source": [
    "Loops are critical for many programs so they can keep running until their task is done. "
   ]
  },
  {
   "cell_type": "code",
   "execution_count": null,
   "metadata": {},
   "outputs": [],
   "source": [
    "# While loops - Change the value of i to 2 and run. \n",
    "# Change the value of i to 10 and alter code so that the counter counts down to 6 and then stops.\n",
    "\n",
    "i = 1\n",
    "while i < 6:\n",
    "  print(i)\n",
    "  i += 1     # this means take i and add one to it, or i = i + 1"
   ]
  },
  {
   "cell_type": "code",
   "execution_count": null,
   "metadata": {},
   "outputs": [],
   "source": [
    "# The following creates a list of cricket teams then loops through that list to print out all of the teams\n",
    "\n",
    "teams = [\"Ireland\", \"England\", \"India\", \"Pakistan\"]\n",
    "for team in teams:\n",
    "  print(team)"
   ]
  },
  {
   "cell_type": "code",
   "execution_count": null,
   "metadata": {},
   "outputs": [],
   "source": [
    "# The range object is a good way to define a list of numbers in sequence\n",
    "\n",
    "for number in range(2, 6):\n",
    "  print(number)"
   ]
  },
  {
   "cell_type": "code",
   "execution_count": null,
   "metadata": {},
   "outputs": [],
   "source": [
    "# you can specify the increment value for the sequence - here we double the number each time\n",
    "# can you change this to triple each time?\n",
    "\n",
    "for number in range(0, 10, 2):\n",
    "  print(number)"
   ]
  },
  {
   "cell_type": "markdown",
   "metadata": {},
   "source": [
    "Functions are important for creating blocks of code that are going to be used a lot and giving this block a function name"
   ]
  },
  {
   "cell_type": "code",
   "execution_count": null,
   "metadata": {},
   "outputs": [],
   "source": [
    "# Define the function \n",
    "def darryls_function(value):\n",
    "    darrylisastar = value\n",
    "    if (darrylisastar):\n",
    "        for inc in range(1, 10):\n",
    "            print(\"Darryl is a talented footballer, he should play for Spurs\")\n",
    "    else: \n",
    "        print(\"Darryl is more suited to Fifa on PS5\")\n",
    "    return\n",
    "\n",
    "# Call the function - is it true or false? \n",
    "darryls_function(True)\n"
   ]
  },
  {
   "cell_type": "markdown",
   "metadata": {},
   "source": [
    "Simple input"
   ]
  },
  {
   "cell_type": "code",
   "execution_count": null,
   "metadata": {},
   "outputs": [],
   "source": [
    "print(\"Is Python easier that Java?\")\n",
    "answer = input(\"y or n:  \")\n",
    "\n",
    "if (answer == 'y'):\n",
    "    print(\"I suspect you are right\")\n",
    "elif (answer == 'n'):\n",
    "    print(\"You must like classes\")\n",
    "else:\n",
    "    print(\"I give up!\")"
   ]
  },
  {
   "cell_type": "markdown",
   "metadata": {},
   "source": [
    "Your challenge to attempt for your log book is to add a condition and a loop to the code above to keep asking the person to enter a value until they enter a valid y or n. You might code it so that a person only gets asked 5 times before getting 'locked out'! :-)"
   ]
  },
  {
   "cell_type": "code",
   "execution_count": null,
   "metadata": {},
   "outputs": [],
   "source": []
  }
 ],
 "metadata": {
  "kernelspec": {
   "display_name": "Python 3.10.6 64-bit",
   "language": "python",
   "name": "python3"
  },
  "language_info": {
   "codemirror_mode": {
    "name": "ipython",
    "version": 3
   },
   "file_extension": ".py",
   "mimetype": "text/x-python",
   "name": "python",
   "nbconvert_exporter": "python",
   "pygments_lexer": "ipython3",
   "version": "3.10.6"
  },
  "vscode": {
   "interpreter": {
    "hash": "369f2c481f4da34e4445cda3fffd2e751bd1c4d706f27375911949ba6bb62e1c"
   }
  }
 },
 "nbformat": 4,
 "nbformat_minor": 4
}
